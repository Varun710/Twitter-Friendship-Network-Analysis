{
 "cells": [
  {
   "cell_type": "code",
   "execution_count": 1,
   "metadata": {},
   "outputs": [],
   "source": [
    "import numpy as np \n",
    "import pandas as pd \n",
    "\n",
    "from sklearn.feature_extraction.text import CountVectorizer\n",
    "from sklearn.feature_extraction.text import TfidfTransformer\n",
    "\n",
    "from sklearn.naive_bayes import MultinomialNB\n",
    "from sklearn.linear_model import LogisticRegression\n",
    "from sklearn.neural_network import MLPClassifier\n",
    "\n",
    "from sklearn.metrics import accuracy_score\n",
    "\n",
    "import pickle"
   ]
  },
  {
   "cell_type": "code",
   "execution_count": 2,
   "metadata": {},
   "outputs": [],
   "source": [
    "import csv\n",
    "from scipy import sparse\n",
    "from sklearn.metrics import pairwise_distances\n",
    "from sklearn.metrics.pairwise import euclidean_distances, cosine_similarity"
   ]
  },
  {
   "cell_type": "code",
   "execution_count": 3,
   "metadata": {},
   "outputs": [],
   "source": [
    "train_preprocessed = pd.read_csv(\"train_preprocessed.csv\")\n",
    "test_preprocessed = pd.read_csv(\"test_preprocessed.csv\")"
   ]
  },
  {
   "cell_type": "code",
   "execution_count": 4,
   "metadata": {},
   "outputs": [
    {
     "data": {
      "text/plain": [
       "unrelated    175598\n",
       "agreed        74238\n",
       "disagreed      6606\n",
       "Name: label, dtype: int64"
      ]
     },
     "execution_count": 4,
     "metadata": {},
     "output_type": "execute_result"
    }
   ],
   "source": [
    "train_preprocessed['label'].value_counts()"
   ]
  },
  {
   "cell_type": "code",
   "execution_count": 5,
   "metadata": {},
   "outputs": [
    {
     "data": {
      "text/plain": [
       "<AxesSubplot:xlabel='label', ylabel='count'>"
      ]
     },
     "execution_count": 5,
     "metadata": {},
     "output_type": "execute_result"
    },
    {
     "data": {
      "image/png": "[encoded data removed]",
      "text/plain": [
       "<Figure size 432x288 with 1 Axes>"
      ]
     },
     "metadata": {
      "needs_background": "light"
     },
     "output_type": "display_data"
    }
   ],
   "source": [
    "import seaborn as sns\n",
    "sns.countplot(data=train_preprocessed, x=\"label\")"
   ]
  },
  {
   "cell_type": "code",
   "execution_count": 6,
   "metadata": {},
   "outputs": [
    {
     "data": {
      "text/plain": [
       "(256442, 4)"
      ]
     },
     "execution_count": 6,
     "metadata": {},
     "output_type": "execute_result"
    }
   ],
   "source": [
    "train_preprocessed.shape"
   ]
  },
  {
   "cell_type": "markdown",
   "metadata": {},
   "source": [
    "The training data is split into train and validation data in the ratio of 80:20. The training data to train the classifier and the validation data to evaluate the performance of the model."
   ]
  },
  {
   "cell_type": "code",
   "execution_count": 7,
   "metadata": {},
   "outputs": [
    {
     "name": "stdout",
     "output_type": "stream",
     "text": [
      "(205153, 4) (51289, 4)\n"
     ]
    }
   ],
   "source": [
    "train_ratio = 80/100\n",
    "validation_ratio = 20/100\n",
    "\n",
    "train_data, validation_data = np.split(train_preprocessed.sample(frac=1, random_state=100), \n",
    "                                       [int(train_ratio * train_preprocessed.shape[0])])\n",
    "\n",
    "print(train_data.shape, validation_data.shape)"
   ]
  },
  {
   "cell_type": "code",
   "execution_count": 8,
   "metadata": {},
   "outputs": [],
   "source": [
    "train_data_labels = train_data['label']\n",
    "validation_data_labels = validation_data['label']"
   ]
  },
  {
   "cell_type": "markdown",
   "metadata": {},
   "source": [
    "# Feature Extraction"
   ]
  },
  {
   "cell_type": "code",
   "execution_count": 9,
   "metadata": {},
   "outputs": [],
   "source": [
    "#create vocabulary\n",
    "vectorizer = CountVectorizer()\n",
    "feature = train_preprocessed[\"title1_en\"] + train_preprocessed[\"title2_en\"]\n",
    "train_headline_counts = vectorizer.fit_transform(list(feature))\n",
    "vocab = (list(vectorizer.vocabulary_.keys()))\n",
    "\n",
    "vectorizer = CountVectorizer(vocabulary=vocab)\n",
    "transformer = TfidfTransformer()"
   ]
  },
  {
   "cell_type": "code",
   "execution_count": 10,
   "metadata": {},
   "outputs": [],
   "source": [
    "#Create features using TF - IDF for train data\n",
    "#Title1\n",
    "title_1 = train_data[\"title1_en\"]\n",
    "\n",
    "title1_counts = vectorizer.fit_transform(list(title_1))\n",
    "title1_tfidf = transformer.fit_transform(title1_counts)\n",
    "\n",
    "#Title 2\n",
    "title_2 = train_data[\"title2_en\"]\n",
    "\n",
    "title2_counts = vectorizer.fit_transform(list(title_2))\n",
    "title2_tfidf = transformer.fit_transform(title2_counts)\n",
    "\n",
    "# Create a feature with two tfidf columns\n",
    "train_feature_tfidf = sparse.hstack([title1_tfidf,title2_tfidf])"
   ]
  },
  {
   "cell_type": "code",
   "execution_count": 11,
   "metadata": {},
   "outputs": [],
   "source": [
    "#Create features using TF - IDF for validation data\n",
    "#Title1\n",
    "title_1 = validation_data[\"title1_en\"]\n",
    "\n",
    "title1_counts = vectorizer.fit_transform(list(title_1))\n",
    "title1_tfidf = transformer.fit_transform(title1_counts)\n",
    "\n",
    "#Title 2\n",
    "title_2 = validation_data[\"title2_en\"]\n",
    "\n",
    "title2_counts = vectorizer.fit_transform(list(title_2))\n",
    "title2_tfidf = transformer.fit_transform(title2_counts)\n",
    "\n",
    "# Create a feature with two tfidf columns\n",
    "validation_feature_tfidf = sparse.hstack([title1_tfidf,title2_tfidf])"
   ]
  },
  {
   "cell_type": "markdown",
   "metadata": {},
   "source": [
    "# Data Modeling"
   ]
  },
  {
   "cell_type": "markdown",
   "metadata": {},
   "source": [
    "# Naive Bayes"
   ]
  },
  {
   "cell_type": "code",
   "execution_count": 12,
   "metadata": {},
   "outputs": [
    {
     "data": {
      "text/plain": [
       "MultinomialNB()"
      ]
     },
     "execution_count": 12,
     "metadata": {},
     "output_type": "execute_result"
    }
   ],
   "source": [
    "mnb = MultinomialNB()\n",
    "mnb.fit(train_feature_tfidf, train_data_labels) #fitting model using training data"
   ]
  },
  {
   "cell_type": "code",
   "execution_count": 13,
   "metadata": {},
   "outputs": [
    {
     "data": {
      "text/plain": [
       "0.7898690245816536"
      ]
     },
     "execution_count": 13,
     "metadata": {},
     "output_type": "execute_result"
    }
   ],
   "source": [
    "# Accuracy while using train data\n",
    "mnb_preds = mnb.predict(train_feature_tfidf)\n",
    "accuracy_score(mnb_preds,train_data_labels)"
   ]
  },
  {
   "cell_type": "code",
   "execution_count": 14,
   "metadata": {},
   "outputs": [
    {
     "data": {
      "text/plain": [
       "0.765719744974556"
      ]
     },
     "execution_count": 14,
     "metadata": {},
     "output_type": "execute_result"
    }
   ],
   "source": [
    "# Accuracy while using validation data\n",
    "mnb_preds = mnb.predict(validation_feature_tfidf)\n",
    "accuracy_score(mnb_preds,validation_data_labels)"
   ]
  },
  {
   "cell_type": "markdown",
   "metadata": {},
   "source": [
    "# Logistic Regression"
   ]
  },
  {
   "cell_type": "code",
   "execution_count": 15,
   "metadata": {},
   "outputs": [],
   "source": [
    "lr = LogisticRegression(solver = 'saga',multi_class='multinomial')"
   ]
  },
  {
   "cell_type": "code",
   "execution_count": 16,
   "metadata": {},
   "outputs": [
    {
     "data": {
      "text/plain": [
       "LogisticRegression(multi_class='multinomial', solver='saga')"
      ]
     },
     "execution_count": 16,
     "metadata": {},
     "output_type": "execute_result"
    }
   ],
   "source": [
    "lr.fit(train_feature_tfidf, train_data_labels) #fitting model using training data"
   ]
  },
  {
   "cell_type": "code",
   "execution_count": 17,
   "metadata": {},
   "outputs": [
    {
     "data": {
      "text/plain": [
       "0.8565802108670114"
      ]
     },
     "execution_count": 17,
     "metadata": {},
     "output_type": "execute_result"
    }
   ],
   "source": [
    "lr.score(train_feature_tfidf,train_data_labels) # Accuracy while using train data"
   ]
  },
  {
   "cell_type": "code",
   "execution_count": 18,
   "metadata": {},
   "outputs": [
    {
     "data": {
      "text/plain": [
       "0.806118270974283"
      ]
     },
     "execution_count": 18,
     "metadata": {},
     "output_type": "execute_result"
    }
   ],
   "source": [
    "lr.score(validation_feature_tfidf,validation_data_labels) # Accuracy while using validation data"
   ]
  },
  {
   "cell_type": "markdown",
   "metadata": {},
   "source": [
    "# Multi-Layer Perceptron Classifier"
   ]
  },
  {
   "cell_type": "code",
   "execution_count": 20,
   "metadata": {},
   "outputs": [],
   "source": [
    "mlp= MLPClassifier(activation = \"relu\",\n",
    "                    random_state=1, \n",
    "                    max_iter=20,\n",
    "                    hidden_layer_sizes = (10),\n",
    "                    verbose = True,\n",
    "                    shuffle = True)"
   ]
  },
  {
   "cell_type": "code",
   "execution_count": 21,
   "metadata": {},
   "outputs": [
    {
     "name": "stdout",
     "output_type": "stream",
     "text": [
      "Iteration 1, loss = 0.58180993\n",
      "Iteration 2, loss = 0.40707128\n",
      "Iteration 3, loss = 0.34780473\n",
      "Iteration 4, loss = 0.31185501\n",
      "Iteration 5, loss = 0.28574393\n",
      "Iteration 6, loss = 0.26528996\n",
      "Iteration 7, loss = 0.24871677\n",
      "Iteration 8, loss = 0.23432301\n",
      "Iteration 9, loss = 0.22229733\n",
      "Iteration 10, loss = 0.21168403\n",
      "Iteration 11, loss = 0.20290643\n",
      "Iteration 12, loss = 0.19435946\n",
      "Iteration 13, loss = 0.18667079\n",
      "Iteration 14, loss = 0.18000529\n",
      "Iteration 15, loss = 0.17378938\n",
      "Iteration 16, loss = 0.16791868\n",
      "Iteration 17, loss = 0.16270217\n",
      "Iteration 18, loss = 0.15795803\n",
      "Iteration 19, loss = 0.15323821\n",
      "Iteration 20, loss = 0.14868059\n"
     ]
    },
    {
     "name": "stderr",
     "output_type": "stream",
     "text": [
      "C:\\Users\\Cathy\\Anaconda3\\lib\\site-packages\\sklearn\\neural_network\\_multilayer_perceptron.py:614: ConvergenceWarning: Stochastic Optimizer: Maximum iterations (20) reached and the optimization hasn't converged yet.\n",
      "  warnings.warn(\n"
     ]
    },
    {
     "data": {
      "text/plain": [
       "MLPClassifier(hidden_layer_sizes=10, max_iter=20, random_state=1, verbose=True)"
      ]
     },
     "execution_count": 21,
     "metadata": {},
     "output_type": "execute_result"
    }
   ],
   "source": [
    "mlp.fit(train_feature_tfidf,train_data_labels) #fitting model using training data"
   ]
  },
  {
   "cell_type": "code",
   "execution_count": 22,
   "metadata": {},
   "outputs": [
    {
     "data": {
      "text/plain": [
       "0.9554576340584832"
      ]
     },
     "execution_count": 22,
     "metadata": {},
     "output_type": "execute_result"
    }
   ],
   "source": [
    "mlp.score(train_feature_tfidf,train_data_labels) # Accuracy while using train data"
   ]
  },
  {
   "cell_type": "code",
   "execution_count": 23,
   "metadata": {},
   "outputs": [
    {
     "data": {
      "text/plain": [
       "0.8131373198931545"
      ]
     },
     "execution_count": 23,
     "metadata": {},
     "output_type": "execute_result"
    }
   ],
   "source": [
    "mlp.score(validation_feature_tfidf,validation_data_labels) # Accuracy while using validation data"
   ]
  },
  {
   "cell_type": "code",
   "execution_count": null,
   "metadata": {},
   "outputs": [],
   "source": [
    "'''\n",
    "mlp = MLPClassifier(activation = \"relu\",\n",
    "                    random_state=1, \n",
    "                    max_iter=20,\n",
    "                    solver = \"adam\",\n",
    "                    learning_rate = \"adaptive\",\n",
    "                    batch_size = 128,\n",
    "                    hidden_layer_sizes = (100),\n",
    "                    verbose = True,\n",
    "                    shuffle = True)\n",
    "\n",
    "mlp.fit(final_feature_tfidf,train_labels)\n",
    "'''\n",
    "\n",
    "# This model fitted the whole train_processed data and got an accuracy of 0.99823 and pickled into MLP_Model.sav\n",
    "# as this really took a long time to train this classifier."
   ]
  },
  {
   "cell_type": "code",
   "execution_count": 24,
   "metadata": {},
   "outputs": [
    {
     "data": {
      "text/plain": [
       "0.9982403376991806"
      ]
     },
     "execution_count": 24,
     "metadata": {},
     "output_type": "execute_result"
    }
   ],
   "source": [
    "best_model_MLP = pickle.load(open(\"MLP_Model.sav\", 'rb'))\n",
    "train_preds = best_model_MLP.predict(train_feature_tfidf)\n",
    "accuracy_score(train_preds,train_data_labels)"
   ]
  },
  {
   "cell_type": "code",
   "execution_count": 25,
   "metadata": {},
   "outputs": [
    {
     "data": {
      "text/plain": [
       "0.9982257404121742"
      ]
     },
     "execution_count": 25,
     "metadata": {},
     "output_type": "execute_result"
    }
   ],
   "source": [
    "validation_preds = best_model_MLP.predict(validation_feature_tfidf)\n",
    "accuracy_score(validation_preds,validation_data_labels)"
   ]
  },
  {
   "cell_type": "markdown",
   "metadata": {},
   "source": [
    "# Testing - Model Prediction"
   ]
  },
  {
   "cell_type": "code",
   "execution_count": 26,
   "metadata": {},
   "outputs": [],
   "source": [
    "#Create TF - IDF features for test data\n",
    "\n",
    "#Title1\n",
    "test_title_1 = test_preprocessed[\"title1_en\"]\n",
    "\n",
    "test_title1_counts = vectorizer.fit_transform(list(test_title_1))\n",
    "test_title1_tfidf = transformer.fit_transform(test_title1_counts)\n",
    "\n",
    "#Title 2\n",
    "test_title_2 = test_preprocessed[\"title2_en\"]\n",
    "\n",
    "test_title2_counts = vectorizer.fit_transform(list(test_title_2))\n",
    "test_title2_tfidf = transformer.fit_transform(test_title2_counts)\n",
    "\n",
    "# Create a feature with two tfidf columns\n",
    "final_feature_test = sparse.hstack([test_title1_tfidf,test_title2_tfidf])"
   ]
  },
  {
   "cell_type": "code",
   "execution_count": null,
   "metadata": {},
   "outputs": [],
   "source": [
    "best_model_MLP = pickle.load(open(\"MLP_Model.sav\", 'rb'))  #MLP model (hideen layer=100)\n",
    "test_preds = best_model_MLP.predict(final_feature_test)"
   ]
  },
  {
   "cell_type": "code",
   "execution_count": null,
   "metadata": {},
   "outputs": [],
   "source": [
    "test_id = test_preprocessed[\"id\"]\n",
    "submit = pd.DataFrame()\n",
    "submit[\"id\"] = test_id\n",
    "submit[\"label\"] = test_preds\n",
    "submit.to_csv(\"submission.csv\",index = False)"
   ]
  },
  {
   "cell_type": "code",
   "execution_count": null,
   "metadata": {},
   "outputs": [],
   "source": [
    "submission = pd.read_csv(\"submission.csv\")\n",
    "submission['label'].value_counts()"
   ]
  }
 ],
 "metadata": {
  "kernelspec": {
   "display_name": "Python 3",
   "language": "python",
   "name": "python3"
  },
  "language_info": {
   "codemirror_mode": {
    "name": "ipython",
    "version": 3
   },
   "file_extension": ".py",
   "mimetype": "text/x-python",
   "name": "python",
   "nbconvert_exporter": "python",
   "pygments_lexer": "ipython3",
   "version": "3.8.5"
  }
 },
 "nbformat": 4,
 "nbformat_minor": 4
}

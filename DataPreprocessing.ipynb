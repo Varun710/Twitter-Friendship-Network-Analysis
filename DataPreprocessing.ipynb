{
 "cells": [
  {
   "cell_type": "code",
   "execution_count": 1,
   "metadata": {},
   "outputs": [],
   "source": [
    "import numpy as np \n",
    "import pandas as pd \n",
    "import nltk, re, string, collections\n",
    "from nltk.util import ngrams\n",
    "from nltk.tokenize import word_tokenize\n",
    "from nltk.corpus import stopwords\n",
    "import string\n",
    "from nltk.stem import WordNetLemmatizer \n",
    "from num2words import num2words"
   ]
  },
  {
   "cell_type": "code",
   "execution_count": 2,
   "metadata": {},
   "outputs": [],
   "source": [
    "train = pd.read_csv(\"train.csv\")\n",
    "test = pd.read_csv(\"test.csv\")"
   ]
  },
  {
   "cell_type": "markdown",
   "metadata": {},
   "source": [
    "# DATA PREPROCESSING"
   ]
  },
  {
   "cell_type": "code",
   "execution_count": 3,
   "metadata": {},
   "outputs": [],
   "source": [
    "def preprocessing(data):\n",
    "    data = data.lower() # Lowercase conversion\n",
    "    data = re.sub('[^\\w\\s]',\" \",str(data)) # Removing extra spaces\n",
    "    data = re.sub('[^a-zA-Z0-9]',\" \",str(data)) # Removing Special Characters\n",
    "    data = word_tokenize(data) # Tokenize sentences into words\n",
    "    lemmatizer = WordNetLemmatizer() # For lemmatization\n",
    "    final = \" \"\n",
    "    \n",
    "    for i in data:\n",
    "        if(i not in stopwords.words(\"english\")):\n",
    "\n",
    "          temp = lemmatizer.lemmatize(i) \n",
    "          if temp.isnumeric():\n",
    "            temp = num2words(temp) # Convert number values to string\n",
    "        final += i +\" \"\n",
    "    return final"
   ]
  },
  {
   "cell_type": "markdown",
   "metadata": {},
   "source": [
    "It takes a long time to run this preprocessing and get the preprocessed train and test data. You can directly use the train_preprocessed.csv and test_preprocessed.csv files which I have submitted seperately."
   ]
  },
  {
   "cell_type": "code",
   "execution_count": 5,
   "metadata": {},
   "outputs": [],
   "source": [
    "parameter_1 = train[\"title1_en\"]\n",
    "parameter_2 = train[\"title2_en\"]\n",
    "\n",
    "# Column: title_1\n",
    "preprocessed_1 = []\n",
    "for i in (range(len(parameter_1))):\n",
    "    preprocessed_1.append(preprocessing(parameter_1[i]))\n",
    "\n",
    "# Column: title_2\n",
    "preprocessed_2 = []\n",
    "for j in (range(len(parameter_2))):\n",
    "    preprocessed_2.append(preprocessing(parameter_2[j]))"
   ]
  },
  {
   "cell_type": "code",
   "execution_count": 6,
   "metadata": {},
   "outputs": [],
   "source": [
    "train_preprocessed = pd.DataFrame()\n",
    "train_preprocessed[\"id\"] = train[\"id\"]\n",
    "train_preprocessed[\"title1_en\"] = preprocessed_1\n",
    "train_preprocessed[\"title2_en\"] = preprocessed_2\n",
    "train_preprocessed[\"label\"] = train[\"label\"]\n",
    "\n",
    "train_preprocessed.to_csv('train_preprocessed.csv',index=False)"
   ]
  },
  {
   "cell_type": "code",
   "execution_count": 7,
   "metadata": {},
   "outputs": [
    {
     "data": {
      "text/html": [
       "<div>\n",
       "<style scoped>\n",
       "    .dataframe tbody tr th:only-of-type {\n",
       "        vertical-align: middle;\n",
       "    }\n",
       "\n",
       "    .dataframe tbody tr th {\n",
       "        vertical-align: top;\n",
       "    }\n",
       "\n",
       "    .dataframe thead th {\n",
       "        text-align: right;\n",
       "    }\n",
       "</style>\n",
       "<table border=\"1\" class=\"dataframe\">\n",
       "  <thead>\n",
       "    <tr style=\"text-align: right;\">\n",
       "      <th></th>\n",
       "      <th>id</th>\n",
       "      <th>title1_en</th>\n",
       "      <th>title2_en</th>\n",
       "      <th>label</th>\n",
       "    </tr>\n",
       "  </thead>\n",
       "  <tbody>\n",
       "    <tr>\n",
       "      <th>0</th>\n",
       "      <td>195611</td>\n",
       "      <td>there are two new old age insurance benefits ...</td>\n",
       "      <td>police disprove bird s nest congress each per...</td>\n",
       "      <td>unrelated</td>\n",
       "    </tr>\n",
       "    <tr>\n",
       "      <th>1</th>\n",
       "      <td>191474</td>\n",
       "      <td>if you do not come to shenzhen sooner or late...</td>\n",
       "      <td>shenzhen s gdp outstrips hong kong shenzhen s...</td>\n",
       "      <td>unrelated</td>\n",
       "    </tr>\n",
       "    <tr>\n",
       "      <th>2</th>\n",
       "      <td>25300</td>\n",
       "      <td>if you do not come to shenzhen sooner or late...</td>\n",
       "      <td>the gdp overtopped hong kong shenzhen clarifi...</td>\n",
       "      <td>unrelated</td>\n",
       "    </tr>\n",
       "    <tr>\n",
       "      <th>3</th>\n",
       "      <td>123757</td>\n",
       "      <td>if you do not come to shenzhen sooner or late...</td>\n",
       "      <td>shenzhen s gdp overtakes hong kong bureau of ...</td>\n",
       "      <td>unrelated</td>\n",
       "    </tr>\n",
       "    <tr>\n",
       "      <th>4</th>\n",
       "      <td>141761</td>\n",
       "      <td>if you do not come to shenzhen sooner or late...</td>\n",
       "      <td>shenzhen s gdp outpaces hong kong defending r...</td>\n",
       "      <td>unrelated</td>\n",
       "    </tr>\n",
       "  </tbody>\n",
       "</table>\n",
       "</div>"
      ],
      "text/plain": [
       "       id                                          title1_en  \\\n",
       "0  195611   there are two new old age insurance benefits ...   \n",
       "1  191474   if you do not come to shenzhen sooner or late...   \n",
       "2   25300   if you do not come to shenzhen sooner or late...   \n",
       "3  123757   if you do not come to shenzhen sooner or late...   \n",
       "4  141761   if you do not come to shenzhen sooner or late...   \n",
       "\n",
       "                                           title2_en      label  \n",
       "0   police disprove bird s nest congress each per...  unrelated  \n",
       "1   shenzhen s gdp outstrips hong kong shenzhen s...  unrelated  \n",
       "2   the gdp overtopped hong kong shenzhen clarifi...  unrelated  \n",
       "3   shenzhen s gdp overtakes hong kong bureau of ...  unrelated  \n",
       "4   shenzhen s gdp outpaces hong kong defending r...  unrelated  "
      ]
     },
     "execution_count": 7,
     "metadata": {},
     "output_type": "execute_result"
    }
   ],
   "source": [
    "train_preprocessed_data = pd.read_csv('train_preprocessed.csv')\n",
    "train_preprocessed_data.head()"
   ]
  },
  {
   "cell_type": "code",
   "execution_count": 8,
   "metadata": {},
   "outputs": [],
   "source": [
    "test_parameter_1 = test[\"title1_en\"]\n",
    "test_parameter_2 = test[\"title2_en\"]\n",
    "\n",
    "# Column: title_1\n",
    "test_preprocessed_1 = []\n",
    "for m in (range(len(test_parameter_1))):\n",
    "    test_preprocessed_1.append(preprocessing(test_parameter_1[m]))\n",
    "\n",
    "# Column: title_2\n",
    "test_preprocessed_2 = []\n",
    "for n in (range(len(test_parameter_2))):\n",
    "    test_preprocessed_2.append(preprocessing(test_parameter_2[n]))"
   ]
  },
  {
   "cell_type": "code",
   "execution_count": 9,
   "metadata": {},
   "outputs": [],
   "source": [
    "test_preprocessed = pd.DataFrame()\n",
    "test_preprocessed[\"id\"] = test[\"id\"]\n",
    "test_preprocessed[\"title1_en\"] = test_preprocessed_1\n",
    "test_preprocessed[\"title2_en\"] = test_preprocessed_2\n",
    "\n",
    "test_preprocessed.to_csv('test_preprocessed.csv',index=False)"
   ]
  },
  {
   "cell_type": "code",
   "execution_count": 10,
   "metadata": {},
   "outputs": [
    {
     "data": {
      "text/html": [
       "<div>\n",
       "<style scoped>\n",
       "    .dataframe tbody tr th:only-of-type {\n",
       "        vertical-align: middle;\n",
       "    }\n",
       "\n",
       "    .dataframe tbody tr th {\n",
       "        vertical-align: top;\n",
       "    }\n",
       "\n",
       "    .dataframe thead th {\n",
       "        text-align: right;\n",
       "    }\n",
       "</style>\n",
       "<table border=\"1\" class=\"dataframe\">\n",
       "  <thead>\n",
       "    <tr style=\"text-align: right;\">\n",
       "      <th></th>\n",
       "      <th>id</th>\n",
       "      <th>title1_en</th>\n",
       "      <th>title2_en</th>\n",
       "    </tr>\n",
       "  </thead>\n",
       "  <tbody>\n",
       "    <tr>\n",
       "      <th>0</th>\n",
       "      <td>256442</td>\n",
       "      <td>the great coat brother zhu zhu wen in the man...</td>\n",
       "      <td>lin xinsheng after the birth of hard milking ...</td>\n",
       "    </tr>\n",
       "    <tr>\n",
       "      <th>1</th>\n",
       "      <td>256443</td>\n",
       "      <td>nasa reveals facts about ufo wreckage found o...</td>\n",
       "      <td>the ufo found in yuancun jiaocheng county sha...</td>\n",
       "    </tr>\n",
       "    <tr>\n",
       "      <th>2</th>\n",
       "      <td>256444</td>\n",
       "      <td>the hollow tomatoes are loaded with hormones</td>\n",
       "      <td>li chenfan bingbing home photos netizen this ...</td>\n",
       "    </tr>\n",
       "    <tr>\n",
       "      <th>3</th>\n",
       "      <td>256445</td>\n",
       "      <td>ange pavilion geoshui how accurate is matrimo...</td>\n",
       "      <td>master one the eight character presumption of...</td>\n",
       "    </tr>\n",
       "    <tr>\n",
       "      <th>4</th>\n",
       "      <td>256446</td>\n",
       "      <td>a 50 year old bus bus blows up an 8 year old ...</td>\n",
       "      <td>i joe johnson s disgruntled timing and order ...</td>\n",
       "    </tr>\n",
       "  </tbody>\n",
       "</table>\n",
       "</div>"
      ],
      "text/plain": [
       "       id                                          title1_en  \\\n",
       "0  256442   the great coat brother zhu zhu wen in the man...   \n",
       "1  256443   nasa reveals facts about ufo wreckage found o...   \n",
       "2  256444      the hollow tomatoes are loaded with hormones    \n",
       "3  256445   ange pavilion geoshui how accurate is matrimo...   \n",
       "4  256446   a 50 year old bus bus blows up an 8 year old ...   \n",
       "\n",
       "                                           title2_en  \n",
       "0   lin xinsheng after the birth of hard milking ...  \n",
       "1   the ufo found in yuancun jiaocheng county sha...  \n",
       "2   li chenfan bingbing home photos netizen this ...  \n",
       "3   master one the eight character presumption of...  \n",
       "4   i joe johnson s disgruntled timing and order ...  "
      ]
     },
     "execution_count": 10,
     "metadata": {},
     "output_type": "execute_result"
    }
   ],
   "source": [
    "test_preprocessed_data = pd.read_csv('test_preprocessed.csv')\n",
    "test_preprocessed_data.head()"
   ]
  },
  {
   "cell_type": "markdown",
   "metadata": {},
   "source": [
    "Now we have preprocessed the train and test data and also have generated train_preprocessed.csv and test_preprocessed.csv files."
   ]
  }
 ],
 "metadata": {
  "kernelspec": {
   "display_name": "Python 3",
   "language": "python",
   "name": "python3"
  },
  "language_info": {
   "codemirror_mode": {
    "name": "ipython",
    "version": 3
   },
   "file_extension": ".py",
   "mimetype": "text/x-python",
   "name": "python",
   "nbconvert_exporter": "python",
   "pygments_lexer": "ipython3",
   "version": "3.8.5"
  }
 },
 "nbformat": 4,
 "nbformat_minor": 4
}
